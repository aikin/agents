{
  "cells": [
    {
      "cell_type": "markdown",
      "metadata": {},
      "source": [
        "# Agentic AI Exercise with Anthropic Claude\n",
        "\n",
        "This notebook implements the exercise from Lab 1 using the Anthropic API instead of OpenAI.\n"
      ]
    },
    {
      "cell_type": "markdown",
      "metadata": {},
      "source": [
        "## Setup Instructions\n",
        "\n",
        "Before running this notebook, make sure you have:\n",
        "\n",
        "1. **Anthropic API Key**: Get your API key from [Anthropic Console](https://console.anthropic.com/)\n",
        "2. **Environment Variable**: Add your key to the `.env` file in the project root:\n",
        "   ```\n",
        "   ANTHROPIC_API_KEY=your_api_key_here\n",
        "   ```\n",
        "3. **Anthropic Library**: Install the Anthropic Python library:\n",
        "   \n",
        "   ```bash\n",
        "   uv add anthropic\n",
        "   ```\n"
      ]
    },
    {
      "cell_type": "code",
      "execution_count": 8,
      "metadata": {},
      "outputs": [],
      "source": [
        "# Import required libraries\n",
        "from dotenv import load_dotenv\n",
        "import os\n",
        "from anthropic import Anthropic\n",
        "from IPython.display import Markdown, display\n"
      ]
    },
    {
      "cell_type": "code",
      "execution_count": 9,
      "metadata": {},
      "outputs": [
        {
          "data": {
            "text/plain": [
              "True"
            ]
          },
          "execution_count": 9,
          "metadata": {},
          "output_type": "execute_result"
        }
      ],
      "source": [
        "# Load environment variables\n",
        "load_dotenv(override=True)\n"
      ]
    },
    {
      "cell_type": "code",
      "execution_count": 11,
      "metadata": {},
      "outputs": [
        {
          "name": "stdout",
          "output_type": "stream",
          "text": [
            "Anthropic API Key exists and begins with: sk-ant-a...\n"
          ]
        }
      ],
      "source": [
        "# Check if Anthropic API key is set\n",
        "anthropic_api_key = os.getenv('ANTHROPIC_API_KEY')\n",
        "\n",
        "if anthropic_api_key:\n",
        "    print(f\"Anthropic API Key exists and begins with: {anthropic_api_key[:8]}...\")\n",
        "else:\n",
        "    print(\"Anthropic API Key not set - please add ANTHROPIC_API_KEY to your .env file\")\n"
      ]
    },
    {
      "cell_type": "code",
      "execution_count": 12,
      "metadata": {},
      "outputs": [],
      "source": [
        "# Initialize Anthropic client\n",
        "client = Anthropic(api_key=anthropic_api_key)\n"
      ]
    },
    {
      "cell_type": "markdown",
      "metadata": {},
      "source": [
        "## Exercise: Three-Step Agentic AI Business Solution\n",
        "\n",
        "This exercise demonstrates a simple multi-step AI workflow:\n",
        "1. **Step 1**: Ask Claude to identify a business area suitable for Agentic AI\n",
        "2. **Step 2**: Ask Claude to identify a specific pain point in that industry\n",
        "3. **Step 3**: Ask Claude to propose an Agentic AI solution for that pain point\n"
      ]
    },
    {
      "cell_type": "markdown",
      "metadata": {},
      "source": [
        "### Step 1: Identify Business Area\n"
      ]
    },
    {
      "cell_type": "code",
      "execution_count": 14,
      "metadata": {},
      "outputs": [
        {
          "name": "stdout",
          "output_type": "stream",
          "text": [
            "🏢 Business Area Selected:\n",
            "# Customer Service & Support\n",
            "\n",
            "Customer service is ideal for Agentic AI because it involves high volumes of repetitive inquiries, clear decision trees, and well-defined escalation protocols that autonomous agents can handle efficiently. AI agents can independently resolve common issues 24/7, learn from interactions, and seamlessly hand off complex cases to humans, dramatically reducing response times while lowering operational costs.\n",
            "\n",
            "==================================================\n",
            "\n"
          ]
        }
      ],
      "source": [
        "# Step 1: Ask Claude to pick a business area for Agentic AI opportunity\n",
        "step1_prompt = \"\"\"Please identify a specific business area or industry that would be particularly well-suited for Agentic AI implementation. \n",
        "Choose an industry where autonomous AI agents could provide significant value. \n",
        "Respond with just the industry name and a brief 2-sentence explanation of why it's suitable for Agentic AI.\"\"\"\n",
        "\n",
        "step1_response = client.messages.create(\n",
        "    model=\"claude-sonnet-4-5-20250929\",\n",
        "    max_tokens=150,\n",
        "    messages=[\n",
        "        {\"role\": \"user\", \"content\": step1_prompt}\n",
        "    ]\n",
        ")\n",
        "\n",
        "business_area = step1_response.content[0].text\n",
        "print(\"🏢 Business Area Selected:\")\n",
        "print(business_area)\n",
        "print(\"\\n\" + \"=\"*50 + \"\\n\")\n"
      ]
    },
    {
      "cell_type": "markdown",
      "metadata": {},
      "source": [
        "### Step 2: Identify Pain Point\n"
      ]
    },
    {
      "cell_type": "code",
      "execution_count": 15,
      "metadata": {},
      "outputs": [
        {
          "name": "stdout",
          "output_type": "stream",
          "text": [
            "🔥 Pain Point Identified:\n",
            "# Pain Point: Multi-Channel Context Fragmentation and Inconsistent Customer Histories\n",
            "\n",
            "Businesses struggle when customers switch between communication channels (email, chat, phone, social media) mid-issue, forcing agents to restart conversations and re-gather information each time. This context loss leads to frustrated customers repeating themselves, longer resolution times, and inconsistent service quality as agents lack visibility into previous interactions across channels. The problem intensifies with 24/7 operations across time zones, where handoffs between shifts and teams result in further information gaps and duplicated effort. Currently, even with CRM systems, agents spend 30-40% of their time manually searching for customer history across disconnected systems rather than actually solving problems, creating both poor customer experiences and massive operational inefficiency.\n",
            "\n",
            "==================================================\n",
            "\n"
          ]
        }
      ],
      "source": [
        "# Step 2: Ask Claude to identify a specific pain point in that industry\n",
        "step2_prompt = f\"\"\"Based on the business area: {business_area}\n",
        "\n",
        "Please identify a specific, challenging pain point in this industry that businesses currently struggle with. \n",
        "Focus on a problem that involves repetitive tasks, complex decision-making, or requires 24/7 availability. \n",
        "Describe the pain point in 3-4 sentences, including why it's particularly challenging for businesses.\"\"\"\n",
        "\n",
        "step2_response = client.messages.create(\n",
        "    model=\"claude-sonnet-4-5-20250929\",\n",
        "    max_tokens=200,\n",
        "    messages=[\n",
        "        {\"role\": \"user\", \"content\": step2_prompt}\n",
        "    ]\n",
        ")\n",
        "\n",
        "pain_point = step2_response.content[0].text\n",
        "print(\"🔥 Pain Point Identified:\")\n",
        "print(pain_point)\n",
        "print(\"\\n\" + \"=\"*50 + \"\\n\")\n"
      ]
    },
    {
      "cell_type": "markdown",
      "metadata": {},
      "source": [
        "### Step 3: Propose Agentic AI Solution\n"
      ]
    },
    {
      "cell_type": "code",
      "execution_count": 16,
      "metadata": {},
      "outputs": [
        {
          "name": "stdout",
          "output_type": "stream",
          "text": [
            "🤖 Agentic AI Solution:\n",
            "\n",
            "==================================================\n",
            "\n"
          ]
        },
        {
          "data": {
            "text/markdown": [
              "# Agentic AI Solution: Unified Context Intelligence System\n",
              "\n",
              "## Solution Overview\n",
              "\n",
              "An intelligent multi-agent system that automatically aggregates, synthesizes, and maintains complete customer context across all channels, enabling seamless continuity regardless of how customers choose to engage. The system proactively prepares comprehensive customer profiles and interaction histories, allowing both AI and human agents to pick up exactly where any previous conversation left off.\n",
              "\n",
              "## Autonomous Agent Architecture\n",
              "\n",
              "### 1. **Context Aggregation Agent**\n",
              "- **Continuously monitors** all customer touchpoints (email, chat, phone transcripts, social media, in-app messages, SMS)\n",
              "- **Automatically extracts** key information: issue descriptions, sentiment, promises made, solutions attempted, product details, and timestamps\n",
              "- **Identifies and links** related interactions across channels using fuzzy matching (phone number, email, name variations, device IDs)\n",
              "- **Creates unified customer timelines** showing the complete journey across all channels in chronological order\n",
              "- **Flags duplicate issues** when customers reach out through multiple channels simultaneously\n",
              "\n",
              "### 2. **Intent & Resolution Agent**\n",
              "- **Analyzes interaction history** to understand the current issue state and customer goal\n",
              "- **Determines issue status**: new, in-progress, escalated, waiting for customer, or resolved\n",
              "- **Tracks resolution attempts** and their outcomes to prevent agents from suggesting already-failed solutions\n",
              "- **Identifies patterns** such as recurring issues that may indicate systemic problems\n",
              "- **Generates concise summaries** (2-3 sentences) of \"what's happened so far\" for quick agent briefing\n",
              "\n",
              "### 3. **Predictive Handoff Agent**\n",
              "- **Anticipates channel switches** based on customer behavior patterns (e.g., customers often move to phone after two failed chat attempts)\n",
              "- **Pre-loads context** for agents before the customer even connects on the new channel\n",
              "- **Determines optimal routing** by matching issue complexity and history with agent expertise\n",
              "- **Prepares handoff briefs** including customer emotional state, urgency level, and recommended next actions\n",
              "- **Manages time zone transitions** by creating detailed shift-handoff summaries for 24/7 operations\n",
              "\n",
              "### 4. **Proactive Communication Agent**\n",
              "- **Reaches out to customers** via their preferred channel when issues"
            ],
            "text/plain": [
              "<IPython.core.display.Markdown object>"
            ]
          },
          "metadata": {},
          "output_type": "display_data"
        }
      ],
      "source": [
        "# Step 3: Ask Claude to propose an Agentic AI solution\n",
        "step3_prompt = f\"\"\"Business Area: {business_area}\n",
        "\n",
        "Pain Point: {pain_point}\n",
        "\n",
        "Now please propose a comprehensive Agentic AI solution that addresses this pain point. Your solution should:\n",
        "1. Describe what autonomous agents would do\n",
        "2. Explain how they would work together (if multiple agents)\n",
        "3. Highlight the key benefits and ROI\n",
        "4. Mention any important implementation considerations\n",
        "\n",
        "Format your response with clear headings and bullet points for readability.\"\"\"\n",
        "\n",
        "step3_response = client.messages.create(\n",
        "    model=\"claude-sonnet-4-5-20250929\",\n",
        "    max_tokens=500,\n",
        "    messages=[\n",
        "        {\"role\": \"user\", \"content\": step3_prompt}\n",
        "    ]\n",
        ")\n",
        "\n",
        "agentic_solution = step3_response.content[0].text\n",
        "print(\"🤖 Agentic AI Solution:\")\n",
        "print(\"\\n\" + \"=\"*50 + \"\\n\")\n",
        "display(Markdown(agentic_solution))\n"
      ]
    },
    {
      "cell_type": "markdown",
      "metadata": {},
      "source": [
        "## Summary\n",
        "\n",
        "This exercise demonstrates a simple but powerful concept in Agentic AI: **chaining AI calls** where the output of one AI interaction becomes the input for the next. This creates a more sophisticated workflow than a single AI call.\n",
        "\n",
        "### Key Concepts Demonstrated:\n",
        "1. **Sequential AI Interactions**: Each step builds upon the previous one\n",
        "2. **Context Preservation**: Information flows from one step to the next\n",
        "3. **Specialized Prompts**: Each step has a focused, specific task\n",
        "4. **Business Application**: Moving from abstract concepts to concrete solutions\n",
        "\n",
        "This is a foundational pattern in Agentic AI systems where multiple AI agents or calls work together to solve complex problems!\n"
      ]
    },
    {
      "cell_type": "markdown",
      "metadata": {},
      "source": [
        "## Bonus: Compare with Different Models\n",
        "\n",
        "Try running the same exercise with different Claude models to see how the responses vary:\n"
      ]
    },
    {
      "cell_type": "code",
      "execution_count": null,
      "metadata": {},
      "outputs": [
        {
          "name": "stdout",
          "output_type": "stream",
          "text": [
            "🚀 Bonus: Quick solution with Claude 4.5 Haiku\n",
            "==================================================\n"
          ]
        },
        {
          "data": {
            "text/markdown": [
              "# Agentic AI Application\n",
              "\n",
              "**1. Business Area: Enterprise IT Support & Help Desk**\n",
              "Large organizations spend enormous resources managing thousands of support tickets across multiple systems, with repetitive issue resolution consuming most labor costs.\n",
              "\n",
              "**2. Major Pain Point:**\n",
              "IT help desk teams waste 60-70% of time on tier-1 issues (password resets, software installation, access provisioning) while customers wait 4-8 hours for resolution, creating frustration and lost productivity.\n",
              "\n",
              "**3. Agentic AI Solution:**\n",
              "Deploy autonomous agents that can access ticketing systems, knowledge bases, and IT infrastructure to resolve common issues end-to-end—resetting passwords via directory services, provisioning access through workflows, troubleshooting via remote diagnostics, and escalating only genuinely complex problems to humans. This reduces response time to minutes and frees skilled technicians for high-value work."
            ],
            "text/plain": [
              "<IPython.core.display.Markdown object>"
            ]
          },
          "metadata": {},
          "output_type": "display_data"
        }
      ],
      "source": [
        "# Bonus: Try with Claude 4.5 Haiku (faster, more concise)\n",
        "print(\"🚀 Bonus: Quick solution with Claude 4.5 Haiku\")\n",
        "print(\"=\"*50)\n",
        "\n",
        "quick_prompt = \"\"\"In 2-3 sentences each:\n",
        "1. Name a business area perfect for Agentic AI\n",
        "2. Identify a major pain point in that area\n",
        "3. Propose an Agentic AI solution\n",
        "\n",
        "Be concise but specific.\"\"\"\n",
        "\n",
        "quick_response = client.messages.create(\n",
        "    model=\"claude-haiku-4-5-20251001\",\n",
        "    max_tokens=300,\n",
        "    messages=[\n",
        "        {\"role\": \"user\", \"content\": quick_prompt}\n",
        "    ]\n",
        ")\n",
        "\n",
        "agentic_solution = quick_response.content[0].text\n",
        "display(Markdown(agentic_solution))\n"
      ]
    }
  ],
  "metadata": {
    "kernelspec": {
      "display_name": ".venv",
      "language": "python",
      "name": "python3"
    },
    "language_info": {
      "codemirror_mode": {
        "name": "ipython",
        "version": 3
      },
      "file_extension": ".py",
      "mimetype": "text/x-python",
      "name": "python",
      "nbconvert_exporter": "python",
      "pygments_lexer": "ipython3",
      "version": "3.12.11"
    }
  },
  "nbformat": 4,
  "nbformat_minor": 2
}
