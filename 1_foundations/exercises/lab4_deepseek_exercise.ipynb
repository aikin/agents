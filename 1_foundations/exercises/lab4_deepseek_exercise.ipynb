{
 "cells": [
  {
   "cell_type": "markdown",
   "id": "7c786a05",
   "metadata": {},
   "source": [
    "# Lab 4 - Career Conversation Agent (DeepSeek Refactored)\n",
    "\n",
    "This is a refactored version of Lab 4 using DeepSeek with improvements in:\n",
    "- **Cost efficiency**: DeepSeek is ~50% cheaper than OpenAI for outputs\n",
    "- **Code organization**: Clean separation of concerns, proper function extraction\n",
    "- **Maintainability**: Type hints, clear naming, modular design\n",
    "- **KISS principle**: Simple, readable code without over-engineering\n",
    "\n",
    "### Key Features:\n",
    "1. AI-powered career assistant representing you professionally\n",
    "2. Tool calling for recording user details and unknown questions\n",
    "3. Real-time push notifications via Pushover\n",
    "4. Web interface with Gradio\n",
    "5. Ready for HuggingFace Spaces deployment\n",
    "\n",
    "### Setup Required:\n",
    "1. DeepSeek API key from https://platform.deepseek.com/\n",
    "2. Pushover account from https://pushover.net/\n",
    "3. Your LinkedIn PDF and summary in the `../me/` folder"
   ]
  },
  {
   "cell_type": "markdown",
   "id": "30ca08b4",
   "metadata": {},
   "source": [
    "## Setup Instructions\n",
    "\n",
    "### 1. Get API Keys\n",
    "- **DeepSeek**: Sign up at https://platform.deepseek.com/ and create an API key\n",
    "- **Pushover**: \n",
    "  - Visit https://pushover.net/ and create a free account\n",
    "  - Click \"Create an Application/API Token\" and name it (e.g., \"Career Agent\")\n",
    "  - Install the Pushover app on your phone\n",
    "\n",
    "### 2. Configure Environment Variables\n",
    "Add these to your `.env` file:\n",
    "\n",
    "```\n",
    "\n",
    "DEEPSEEK_API_KEY=sk-...\n",
    "\n",
    "PUSHOVER_USER=u...\n",
    "\n",
    "PUSHOVER_TOKEN=a...\n",
    "\n",
    "```"
   ]
  },
  {
   "cell_type": "code",
   "execution_count": 6,
   "id": "498d0363",
   "metadata": {},
   "outputs": [],
   "source": [
    "import json\n",
    "import os\n",
    "from typing import Dict, List, Any\n",
    "\n",
    "from dotenv import load_dotenv\n",
    "from openai import OpenAI\n",
    "from pypdf import PdfReader\n",
    "import gradio as gr\n",
    "import requests"
   ]
  },
  {
   "cell_type": "code",
   "execution_count": 7,
   "id": "322127ba",
   "metadata": {},
   "outputs": [
    {
     "name": "stdout",
     "output_type": "stream",
     "text": [
      "✅ Configuration loaded:\n",
      "   Name: Ed Donner\n",
      "   Model: deepseek-chat\n",
      "   DeepSeek API: ✓\n",
      "   Pushover: ✓\n"
     ]
    }
   ],
   "source": [
    "CONFIG = {\n",
    "  \"name\": \"Ed Donner\",\n",
    "  \"model\": \"deepseek-chat\",\n",
    "  \"linkedin_pdf\": \"../me/linkedin.pdf\",\n",
    "  \"summary_file\": \"../me/summary.txt\",\n",
    "}\n",
    "\n",
    "load_dotenv(override=True)\n",
    "\n",
    "deepseek_api_key = os.getenv(\"DEEPSEEK_API_KEY\")\n",
    "\n",
    "if not deepseek_api_key:\n",
    "    raise ValueError(\"DEEPSEEK_API_KEY is not set in the environment variables\")\n",
    "\n",
    "deepseek = OpenAI(\n",
    "    api_key=deepseek_api_key,\n",
    "    base_url=\"https://api.deepseek.com/v1\"\n",
    ")\n",
    "\n",
    "PUSHOVER_CONFIG = {\n",
    "  \"user\": os.getenv(\"PUSHOVER_USER\"),\n",
    "  \"token\": os.getenv(\"PUSHOVER_TOKEN\"),\n",
    "  \"url\": \"https://api.pushover.net/1/messages.json\"\n",
    "}\n",
    "\n",
    "if not PUSHOVER_CONFIG[\"user\"] or not PUSHOVER_CONFIG[\"token\"]:\n",
    "    raise ValueError(\"PUSHOVER_USER and PUSHOVER_TOKEN must be set in the environment variables\")\n",
    "\n",
    "print(\"✅ Configuration loaded:\")\n",
    "print(f\"   Name: {CONFIG['name']}\")\n",
    "print(f\"   Model: {CONFIG['model']}\")\n",
    "print(f\"   DeepSeek API: {'✓' if os.getenv('DEEPSEEK_API_KEY') else '✗'}\")\n",
    "print(f\"   Pushover: {'✓' if PUSHOVER_CONFIG['user'] and PUSHOVER_CONFIG['token'] else '✗'}\")"
   ]
  },
  {
   "cell_type": "markdown",
   "id": "633af268",
   "metadata": {},
   "source": [
    "## Notification Function"
   ]
  },
  {
   "cell_type": "code",
   "execution_count": 8,
   "id": "e4214c1c",
   "metadata": {},
   "outputs": [],
   "source": [
    "def send_notification(message: str) -> None:\n",
    "  if not PUSHOVER_CONFIG[\"user\"] or not PUSHOVER_CONFIG[\"token\"]:\n",
    "      print(f\"⚠️  Pushover not configured. Would send: {message}\")\n",
    "      return\n",
    "\n",
    "  try:\n",
    "    payload = {\n",
    "      \"user\": PUSHOVER_CONFIG[\"user\"],\n",
    "      \"token\": PUSHOVER_CONFIG[\"token\"],\n",
    "      \"message\": message,\n",
    "      \"title\": \"Career Agent Notification\"\n",
    "    }\n",
    "    response = requests.post(PUSHOVER_CONFIG[\"url\"], data=payload)\n",
    "    response.raise_for_status()\n",
    "    print(f\"📱 Notification sent: {message}\")    \n",
    "  except Exception as e:\n",
    "    print(f\"❌ Notification failed: {e}\")"
   ]
  },
  {
   "cell_type": "markdown",
   "id": "0921ce13",
   "metadata": {},
   "source": [
    "## Tool functions"
   ]
  },
  {
   "cell_type": "code",
   "execution_count": 9,
   "id": "d48d2c8d",
   "metadata": {},
   "outputs": [],
   "source": [
    "def record_user_details(email: str, name: str = \"Name not provided\", notes: str = \"Not provided\") -> Dict[str, str]:\n",
    "\n",
    "  message = f\"New contact: {name} ({email}\\nNotes: {notes}\"\n",
    "  send_notification(message)\n",
    "  return {\"status\": \"recorded\", \"email\": email}\n",
    "\n",
    "def record_unknown_question(question: str) -> Dict[str, str]:\n",
    "  message = f\"Unknown question: {question}\"\n",
    "  send_notification(message)\n",
    "  return {\"status\": \"recorded\", \"question\": question}"
   ]
  },
  {
   "cell_type": "markdown",
   "id": "c7812ab6",
   "metadata": {},
   "source": [
    "## Tool definitions"
   ]
  },
  {
   "cell_type": "code",
   "execution_count": 10,
   "id": "2d52e9b6",
   "metadata": {},
   "outputs": [],
   "source": [
    "TOOLS = [\n",
    "    {\n",
    "        \"type\": \"function\",\n",
    "        \"function\": {\n",
    "            \"name\": \"record_user_details\",\n",
    "            \"description\": \"Record user contact information when they express interest in connecting\",\n",
    "            \"parameters\": {\n",
    "                \"type\": \"object\",\n",
    "                \"properties\": {\n",
    "                    \"email\": {\n",
    "                        \"type\": \"string\",\n",
    "                        \"description\": \"User's email address\"\n",
    "                    },\n",
    "                    \"name\": {\n",
    "                        \"type\": \"string\",\n",
    "                        \"description\": \"User's name (if provided)\"\n",
    "                    },\n",
    "                    \"notes\": {\n",
    "                        \"type\": \"string\",\n",
    "                        \"description\": \"Additional context about the conversation\"\n",
    "                    }\n",
    "                },\n",
    "                \"required\": [\"email\"],\n",
    "                \"additionalProperties\": False\n",
    "            }\n",
    "        }\n",
    "    },\n",
    "    {\n",
    "        \"type\": \"function\",\n",
    "        \"function\": {\n",
    "            \"name\": \"record_unknown_question\",\n",
    "            \"description\": \"Record questions that couldn't be answered for future improvement\",\n",
    "            \"parameters\": {\n",
    "                \"type\": \"object\",\n",
    "                \"properties\": {\n",
    "                    \"question\": {\n",
    "                        \"type\": \"string\",\n",
    "                        \"description\": \"The question that couldn't be answered\"\n",
    "                    }\n",
    "                },\n",
    "                \"required\": [\"question\"],\n",
    "                \"additionalProperties\": False\n",
    "            }\n",
    "        }\n",
    "    }\n",
    "]"
   ]
  },
  {
   "cell_type": "markdown",
   "id": "35429d30",
   "metadata": {},
   "source": [
    "## Tool Execution Handler"
   ]
  },
  {
   "cell_type": "code",
   "execution_count": 11,
   "id": "2d74edec",
   "metadata": {},
   "outputs": [],
   "source": [
    "def execute_tool_calls(tool_calls: List[Any]) -> List[Dict[str, Any]]:\n",
    "  results = []\n",
    "  for tool_call in tool_calls:\n",
    "    tool_name = tool_call.function.name\n",
    "    arguments = json.loads(tool_call.function.arguments)\n",
    "\n",
    "    print(f\"🔧 Executing tool: {tool_name}\")\n",
    "\n",
    "    tool_function = globals().get(tool_name)\n",
    "    if tool_function:\n",
    "      result = tool_function(**arguments)\n",
    "    else:\n",
    "      result = {\"error\": f\"Unknown tool: {tool_name}\"}\n",
    "\n",
    "    results.append({\n",
    "      \"role\": \"tool\",\n",
    "      \"content\": json.dumps(result),\n",
    "      \"tool_call_id\": tool_call.id\n",
    "    })\n",
    "    \n",
    "  return results"
   ]
  },
  {
   "cell_type": "markdown",
   "id": "e755023f",
   "metadata": {},
   "source": [
    "## Profile loading"
   ]
  },
  {
   "cell_type": "code",
   "execution_count": 12,
   "id": "10d336a9",
   "metadata": {},
   "outputs": [
    {
     "name": "stdout",
     "output_type": "stream",
     "text": [
      "✅ Profile loaded: 8260 chars from LinkedIn, 387 chars from summary\n"
     ]
    }
   ],
   "source": [
    "def load_profile() -> tuple[str, str]:\n",
    "\n",
    "  try: \n",
    "    render = PdfReader(CONFIG[\"linkedin_pdf\"])\n",
    "    linkedin = \"\\n\".join(\n",
    "      page.extract_text()\n",
    "      for page in render.pages\n",
    "      if page.extract_text()\n",
    "    )\n",
    "  except FileNotFoundError:\n",
    "    linkedin = \"LinkedIn profile not found. Please add your LinkedIn PDF.\"\n",
    "    print(f\"⚠️  {linkedin}\")\n",
    "\n",
    "\n",
    "  try:\n",
    "    with open(CONFIG[\"summary_file\"], \"r\", encoding=\"utf-8\") as file:\n",
    "      summary = file.read()\n",
    "  except FileNotFoundError:\n",
    "    summary = \"Summary not found. Please add your summary text file.\"\n",
    "    print(f\"⚠️  {summary}\")\n",
    "\n",
    "  return linkedin, summary\n",
    "\n",
    "\n",
    "  # Load profile data\n",
    "linkedin_profile, personal_summary = load_profile()\n",
    "print(f\"✅ Profile loaded: {len(linkedin_profile)} chars from LinkedIn, {len(personal_summary)} chars from summary\")"
   ]
  },
  {
   "cell_type": "markdown",
   "id": "9a86f773",
   "metadata": {},
   "source": [
    "## System prompt builder"
   ]
  },
  {
   "cell_type": "code",
   "execution_count": 13,
   "id": "fc51b827",
   "metadata": {},
   "outputs": [],
   "source": [
    "def build_system_prompt(name: str, summary: str, linkedin: str) -> str:\n",
    "    \"\"\"Build the system prompt for the AI agent.\"\"\"\n",
    "    return f\"\"\"You are acting as {name}. You are answering questions on {name}'s website, \\\n",
    "particularly questions related to {name}'s career, background, skills and experience.\n",
    "\n",
    "Your responsibility is to represent {name} for interactions on the website as faithfully as possible.\n",
    "\n",
    "You are given a summary of {name}'s background and LinkedIn profile which you can use to answer questions.\n",
    "\n",
    "Be professional and engaging, as if talking to a potential client or future employer who came across the website.\n",
    "\n",
    "If you don't know the answer to any question, use your record_unknown_question tool to record it.\n",
    "\n",
    "If the user is engaging in discussion, try to steer them towards getting in touch via email; \\\n",
    "ask for their email and record it using your record_user_details tool.\n",
    "\n",
    "## Summary:\n",
    "{summary}\n",
    "\n",
    "## LinkedIn Profile:\n",
    "{linkedin}\n",
    "\n",
    "With this context, please chat with the user, always staying in character as {name}.\"\"\"\n",
    "\n",
    "\n",
    "# Build system prompt\n",
    "SYSTEM_PROMPT = build_system_prompt(\n",
    "    CONFIG[\"name\"],\n",
    "    personal_summary,\n",
    "    linkedin_profile\n",
    ")"
   ]
  },
  {
   "cell_type": "markdown",
   "id": "a7da9d9c",
   "metadata": {},
   "source": [
    "## Main chat function"
   ]
  },
  {
   "cell_type": "code",
   "execution_count": 14,
   "id": "9180129d",
   "metadata": {},
   "outputs": [],
   "source": [
    "def chat(message: str, history: List[Dict[str, str]]) -> str:\n",
    "  messages = [\n",
    "    {\"role\": \"system\", \"content\": SYSTEM_PROMPT},\n",
    "    *history,\n",
    "    {\"role\": \"user\", \"content\": message}\n",
    "  ]\n",
    "\n",
    "  while True:\n",
    "    response = deepseek.chat.completions.create(\n",
    "      model=CONFIG[\"model\"],\n",
    "      messages=messages,\n",
    "      tools=TOOLS\n",
    "    )\n",
    "\n",
    "    finish_reason = response.choices[0].finish_reason\n",
    "    assistant_message = response.choices[0].message\n",
    "\n",
    "    if finish_reason == \"tool_calls\":\n",
    "      messages.append(assistant_message)\n",
    "      tool_results = execute_tool_calls(assistant_message.tool_calls)\n",
    "      messages.extend(tool_results)\n",
    "    else:\n",
    "      return assistant_message.content\n",
    "    "
   ]
  },
  {
   "cell_type": "markdown",
   "id": "f213224a",
   "metadata": {},
   "source": [
    "## Launch Gradio Interface"
   ]
  },
  {
   "cell_type": "code",
   "execution_count": null,
   "id": "5a5c2a7c",
   "metadata": {},
   "outputs": [
    {
     "name": "stdout",
     "output_type": "stream",
     "text": [
      "* Running on local URL:  http://127.0.0.1:7860\n",
      "* To create a public link, set `share=True` in `launch()`.\n"
     ]
    },
    {
     "data": {
      "text/html": [
       "<div><iframe src=\"http://127.0.0.1:7860/\" width=\"100%\" height=\"500\" allow=\"autoplay; camera; microphone; clipboard-read; clipboard-write;\" frameborder=\"0\" allowfullscreen></iframe></div>"
      ],
      "text/plain": [
       "<IPython.core.display.HTML object>"
      ]
     },
     "metadata": {},
     "output_type": "display_data"
    },
    {
     "data": {
      "text/plain": []
     },
     "execution_count": 15,
     "metadata": {},
     "output_type": "execute_result"
    },
    {
     "name": "stdout",
     "output_type": "stream",
     "text": [
      "🔧 Executing tool: record_user_details\n",
      "📱 Notification sent: New contact: Name not provided (test@example.com\n",
      "Notes: User expressed interest in connecting after discussing technology stack\n"
     ]
    }
   ],
   "source": [
    "interface = gr.ChatInterface(\n",
    "    fn=chat,\n",
    "    type=\"messages\",\n",
    "    title=f\"Chat with {CONFIG['name']}\",\n",
    "    description=\"Ask me about my career, experience, and skills!\",\n",
    "    examples=[\n",
    "        \"What's your background?\",\n",
    "        \"What technologies do you work with?\",\n",
    "        \"Can we connect? My email is example@email.com\"\n",
    "    ]\n",
    ")\n",
    "\n",
    "interface.launch()"
   ]
  }
 ],
 "metadata": {
  "kernelspec": {
   "display_name": ".venv",
   "language": "python",
   "name": "python3"
  },
  "language_info": {
   "codemirror_mode": {
    "name": "ipython",
    "version": 3
   },
   "file_extension": ".py",
   "mimetype": "text/x-python",
   "name": "python",
   "nbconvert_exporter": "python",
   "pygments_lexer": "ipython3",
   "version": "3.12.11"
  }
 },
 "nbformat": 4,
 "nbformat_minor": 5
}
